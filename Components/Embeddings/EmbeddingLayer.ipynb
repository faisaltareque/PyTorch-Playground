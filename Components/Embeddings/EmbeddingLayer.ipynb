{
 "cells": [
  {
   "cell_type": "code",
   "execution_count": 17,
   "metadata": {},
   "outputs": [],
   "source": [
    "import torch"
   ]
  },
  {
   "cell_type": "markdown",
   "metadata": {},
   "source": [
    "### Basic Embedding"
   ]
  },
  {
   "cell_type": "code",
   "execution_count": 18,
   "metadata": {},
   "outputs": [],
   "source": [
    "vocab_size = 32\n",
    "embedding_size = 2\n",
    "batch_size = 4\n",
    "seq_len = 10\n",
    "input = torch.randint(0, vocab_size, (batch_size, seq_len)) # (batch_size, seq_len) = (4, 10) random integers between 0 and 31 (vocab_size)"
   ]
  },
  {
   "cell_type": "code",
   "execution_count": 19,
   "metadata": {},
   "outputs": [
    {
     "data": {
      "text/plain": [
       "tensor([[11,  9, 21, 28, 20, 16, 10, 24, 26,  2],\n",
       "        [18, 23, 14, 10,  8,  2, 17, 14,  0, 13],\n",
       "        [ 6, 27, 14,  6, 15, 23, 13,  6, 13,  3],\n",
       "        [23, 10,  6,  5, 13, 28,  5, 30, 20, 25]])"
      ]
     },
     "execution_count": 19,
     "metadata": {},
     "output_type": "execute_result"
    }
   ],
   "source": [
    "input"
   ]
  },
  {
   "cell_type": "code",
   "execution_count": 20,
   "metadata": {},
   "outputs": [],
   "source": [
    "embedding = torch.nn.Embedding(vocab_size, embedding_size)"
   ]
  },
  {
   "cell_type": "code",
   "execution_count": 21,
   "metadata": {},
   "outputs": [
    {
     "data": {
      "text/plain": [
       "torch.Size([4, 10, 2])"
      ]
     },
     "execution_count": 21,
     "metadata": {},
     "output_type": "execute_result"
    }
   ],
   "source": [
    "embeddings = embedding(input)\n",
    "embeddings.shape # (batch_size, seq_len, embedding_size) = (4, 10, 2)"
   ]
  },
  {
   "cell_type": "markdown",
   "metadata": {},
   "source": [
    "### Basic Embedding and Learnable Positional Embedding"
   ]
  },
  {
   "cell_type": "code",
   "execution_count": 22,
   "metadata": {},
   "outputs": [
    {
     "data": {
      "text/plain": [
       "torch.Size([4, 10, 2])"
      ]
     },
     "execution_count": 22,
     "metadata": {},
     "output_type": "execute_result"
    }
   ],
   "source": [
    "embedding_layer = torch.nn.Embedding(vocab_size, embedding_size)\n",
    "positional_embedding_layer = torch.nn.Embedding(seq_len, embedding_size)\n",
    "\n",
    "input = torch.randint(0, vocab_size, (batch_size, seq_len)) # (batch_size, seq_len) = (4, 10) random integers between 0 and 31 (vocab_size)\n",
    "\n",
    "embeddings = embedding_layer(input) # (batch_size, seq_len, embedding_size) = (4, 10, 2)\n",
    "positional_embeddings = positional_embedding_layer(torch.arange(seq_len)) # (seq_len, embedding_size) = (10, 2)\n",
    "positional_embeddings = positional_embeddings.unsqueeze(0) # (1, seq_len, embedding_size) = (1, 10, 2)\n",
    "positional_embeddings = positional_embeddings.expand(batch_size, -1, -1) # (batch_size, seq_len, embedding_size) = (4, 10, 2)\n",
    "\n",
    "embeddings = embeddings + positional_embeddings\n",
    "embeddings.shape # (batch_size, seq_len, embedding_size) = (4, 10, 2)\n"
   ]
  },
  {
   "cell_type": "code",
   "execution_count": 23,
   "metadata": {},
   "outputs": [
    {
     "data": {
      "text/plain": [
       "torch.Size([4, 10, 2])"
      ]
     },
     "execution_count": 23,
     "metadata": {},
     "output_type": "execute_result"
    }
   ],
   "source": [
    "positional_embeddings.shape"
   ]
  },
  {
   "cell_type": "code",
   "execution_count": null,
   "metadata": {},
   "outputs": [],
   "source": []
  }
 ],
 "metadata": {
  "kernelspec": {
   "display_name": "PyTorch",
   "language": "python",
   "name": "pytorch"
  },
  "language_info": {
   "codemirror_mode": {
    "name": "ipython",
    "version": 3
   },
   "file_extension": ".py",
   "mimetype": "text/x-python",
   "name": "python",
   "nbconvert_exporter": "python",
   "pygments_lexer": "ipython3",
   "version": "3.12.1"
  }
 },
 "nbformat": 4,
 "nbformat_minor": 2
}
