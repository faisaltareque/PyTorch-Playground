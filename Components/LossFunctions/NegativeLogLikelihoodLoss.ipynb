{
 "cells": [
  {
   "cell_type": "code",
   "execution_count": 1,
   "metadata": {},
   "outputs": [],
   "source": [
    "import torch"
   ]
  },
  {
   "cell_type": "code",
   "execution_count": 2,
   "metadata": {},
   "outputs": [],
   "source": [
    "num_of_classes = 5\n",
    "num_of_samples = 10"
   ]
  },
  {
   "cell_type": "code",
   "execution_count": 3,
   "metadata": {},
   "outputs": [],
   "source": [
    "logits = torch.randn(num_of_samples, num_of_classes)"
   ]
  },
  {
   "cell_type": "code",
   "execution_count": 4,
   "metadata": {},
   "outputs": [
    {
     "data": {
      "text/plain": [
       "tensor([[-7.2849e-01, -3.0849e-01, -1.4437e-01, -7.6564e-01,  8.9757e-01],\n",
       "        [-1.7906e+00, -1.3382e+00,  6.7700e-01, -1.1424e+00,  8.3017e-01],\n",
       "        [ 1.5203e+00,  9.6691e-01,  6.6763e-01, -1.0900e+00, -5.1311e-01],\n",
       "        [ 2.2683e-01, -2.0096e-01,  3.3099e-01, -4.3012e-01,  7.9488e-01],\n",
       "        [-2.5769e-01, -1.0872e+00,  1.6433e+00, -9.6997e-01, -7.5872e-01],\n",
       "        [ 8.6828e-01, -1.1030e+00,  2.4170e-01, -4.5007e-01,  2.5517e-01],\n",
       "        [-2.0667e+00, -5.8839e-01, -2.1204e+00, -4.1409e-01, -7.8772e-02],\n",
       "        [ 9.3884e-01, -2.4121e+00, -3.4366e+00,  7.9986e-02, -1.1160e+00],\n",
       "        [ 1.1528e+00, -5.5912e-01, -2.7049e-01, -6.0206e-02,  6.8418e-01],\n",
       "        [ 8.7075e-01,  7.3484e-01, -8.3176e-01,  7.9435e-01, -5.2034e-04]])"
      ]
     },
     "execution_count": 4,
     "metadata": {},
     "output_type": "execute_result"
    }
   ],
   "source": [
    "logits"
   ]
  },
  {
   "cell_type": "code",
   "execution_count": 6,
   "metadata": {},
   "outputs": [
    {
     "data": {
      "text/plain": [
       "tensor([[4],\n",
       "        [4],\n",
       "        [0],\n",
       "        [1],\n",
       "        [1],\n",
       "        [2],\n",
       "        [4],\n",
       "        [4],\n",
       "        [4],\n",
       "        [3]])"
      ]
     },
     "execution_count": 6,
     "metadata": {},
     "output_type": "execute_result"
    }
   ],
   "source": [
    "labels = torch.randint(num_of_classes, (num_of_samples,1))\n",
    "labels"
   ]
  },
  {
   "cell_type": "code",
   "execution_count": 9,
   "metadata": {},
   "outputs": [
    {
     "data": {
      "text/plain": [
       "tensor([[0.4826, 0.7346, 0.8656, 0.4650, 2.4536],\n",
       "        [0.1669, 0.2623, 1.9680, 0.3191, 2.2937],\n",
       "        [4.5737, 2.6298, 1.9496, 0.3362, 0.5986],\n",
       "        [1.2546, 0.8179, 1.3923, 0.6504, 2.2142],\n",
       "        [0.7728, 0.3372, 5.1723, 0.3791, 0.4683],\n",
       "        [2.3828, 0.3319, 1.2734, 0.6376, 1.2907],\n",
       "        [0.1266, 0.5552, 0.1200, 0.6609, 0.9243],\n",
       "        [2.5570, 0.0896, 0.0322, 1.0833, 0.3276],\n",
       "        [3.1672, 0.5717, 0.7630, 0.9416, 1.9821],\n",
       "        [2.3887, 2.0851, 0.4353, 2.2130, 0.9995]])"
      ]
     },
     "execution_count": 9,
     "metadata": {},
     "output_type": "execute_result"
    }
   ],
   "source": [
    "expoenential = torch.exp(logits)\n",
    "expoenential"
   ]
  },
  {
   "cell_type": "code",
   "execution_count": 10,
   "metadata": {},
   "outputs": [
    {
     "data": {
      "text/plain": [
       "tensor([[0.0965, 0.1469, 0.1731, 0.0930, 0.4906],\n",
       "        [0.0333, 0.0524, 0.3928, 0.0637, 0.4578],\n",
       "        [0.4534, 0.2607, 0.1933, 0.0333, 0.0593],\n",
       "        [0.1982, 0.1292, 0.2200, 0.1028, 0.3498],\n",
       "        [0.1084, 0.0473, 0.7255, 0.0532, 0.0657],\n",
       "        [0.4027, 0.0561, 0.2152, 0.1078, 0.2182],\n",
       "        [0.0530, 0.2326, 0.0503, 0.2769, 0.3872],\n",
       "        [0.6252, 0.0219, 0.0079, 0.2649, 0.0801],\n",
       "        [0.4265, 0.0770, 0.1028, 0.1268, 0.2669],\n",
       "        [0.2941, 0.2567, 0.0536, 0.2725, 0.1231]])"
      ]
     },
     "execution_count": 10,
     "metadata": {},
     "output_type": "execute_result"
    }
   ],
   "source": [
    "probabilities = expoenential / torch.sum(expoenential, dim=1, keepdim=True)\n",
    "probabilities"
   ]
  },
  {
   "cell_type": "code",
   "execution_count": 11,
   "metadata": {},
   "outputs": [
    {
     "data": {
      "text/plain": [
       "tensor(1.)"
      ]
     },
     "execution_count": 11,
     "metadata": {},
     "output_type": "execute_result"
    }
   ],
   "source": [
    "probabilities[0].sum()"
   ]
  },
  {
   "cell_type": "code",
   "execution_count": 12,
   "metadata": {},
   "outputs": [
    {
     "data": {
      "text/plain": [
       "tensor([[4],\n",
       "        [4],\n",
       "        [0],\n",
       "        [1],\n",
       "        [1],\n",
       "        [2],\n",
       "        [4],\n",
       "        [4],\n",
       "        [4],\n",
       "        [3]])"
      ]
     },
     "execution_count": 12,
     "metadata": {},
     "output_type": "execute_result"
    }
   ],
   "source": [
    "labels"
   ]
  },
  {
   "cell_type": "code",
   "execution_count": 13,
   "metadata": {},
   "outputs": [
    {
     "data": {
      "text/plain": [
       "tensor([[0.4906],\n",
       "        [0.4578],\n",
       "        [0.4534],\n",
       "        [0.1292],\n",
       "        [0.0473],\n",
       "        [0.2152],\n",
       "        [0.3872],\n",
       "        [0.0801],\n",
       "        [0.2669],\n",
       "        [0.2725]])"
      ]
     },
     "execution_count": 13,
     "metadata": {},
     "output_type": "execute_result"
    }
   ],
   "source": [
    "# get the logits for the labels\n",
    "probabilities.gather(1, labels)"
   ]
  },
  {
   "cell_type": "code",
   "execution_count": 14,
   "metadata": {},
   "outputs": [
    {
     "data": {
      "text/plain": [
       "tensor([0.7122])"
      ]
     },
     "execution_count": 14,
     "metadata": {},
     "output_type": "execute_result"
    }
   ],
   "source": [
    "# negative log likelihood for 0th sample\n",
    "-torch.log(probabilities[0, labels[0]])"
   ]
  },
  {
   "cell_type": "code",
   "execution_count": 15,
   "metadata": {},
   "outputs": [
    {
     "data": {
      "text/plain": [
       "tensor([[0.7122],\n",
       "        [0.7812],\n",
       "        [0.7910],\n",
       "        [2.0462],\n",
       "        [3.0515],\n",
       "        [1.5360],\n",
       "        [0.9488],\n",
       "        [2.5244],\n",
       "        [1.3208],\n",
       "        [1.3002]])"
      ]
     },
     "execution_count": 15,
     "metadata": {},
     "output_type": "execute_result"
    }
   ],
   "source": [
    "# negative log likelihood for all samples\n",
    "-torch.log(probabilities.gather(1, labels))"
   ]
  },
  {
   "cell_type": "code",
   "execution_count": 16,
   "metadata": {},
   "outputs": [
    {
     "data": {
      "text/plain": [
       "tensor(15.0123)"
      ]
     },
     "execution_count": 16,
     "metadata": {},
     "output_type": "execute_result"
    }
   ],
   "source": [
    "# total loss\n",
    "-torch.log(probabilities.gather(1, labels)).sum()"
   ]
  },
  {
   "cell_type": "code",
   "execution_count": 17,
   "metadata": {},
   "outputs": [
    {
     "data": {
      "text/plain": [
       "tensor(1.5012)"
      ]
     },
     "execution_count": 17,
     "metadata": {},
     "output_type": "execute_result"
    }
   ],
   "source": [
    "# mean loss\n",
    "-torch.log(probabilities.gather(1, labels)).mean()"
   ]
  },
  {
   "cell_type": "code",
   "execution_count": 18,
   "metadata": {},
   "outputs": [
    {
     "data": {
      "text/plain": [
       "tensor(1.5012)"
      ]
     },
     "execution_count": 18,
     "metadata": {},
     "output_type": "execute_result"
    }
   ],
   "source": [
    "# cross entropy loss\n",
    "loss = torch.nn.functional.cross_entropy(logits, labels.squeeze())\n",
    "loss"
   ]
  }
 ],
 "metadata": {
  "kernelspec": {
   "display_name": "PyTorch",
   "language": "python",
   "name": "pytorch"
  },
  "language_info": {
   "codemirror_mode": {
    "name": "ipython",
    "version": 3
   },
   "file_extension": ".py",
   "mimetype": "text/x-python",
   "name": "python",
   "nbconvert_exporter": "python",
   "pygments_lexer": "ipython3",
   "version": "3.9.16"
  }
 },
 "nbformat": 4,
 "nbformat_minor": 2
}
