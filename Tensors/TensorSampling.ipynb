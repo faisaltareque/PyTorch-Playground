{
 "cells": [
  {
   "cell_type": "code",
   "execution_count": 1,
   "metadata": {},
   "outputs": [],
   "source": [
    "import torch"
   ]
  },
  {
   "cell_type": "code",
   "execution_count": 24,
   "metadata": {},
   "outputs": [
    {
     "data": {
      "text/plain": [
       "tensor([0.4127, 0.3956, 0.8160, 0.1514, 0.3352, 0.8242, 0.3449, 0.0019, 0.4804,\n",
       "        0.9624])"
      ]
     },
     "execution_count": 24,
     "metadata": {},
     "output_type": "execute_result"
    }
   ],
   "source": [
    "gen = torch.Generator().manual_seed(2562)\n",
    "random_tensor = torch.rand(10, generator=gen)\n",
    "random_tensor"
   ]
  },
  {
   "cell_type": "code",
   "execution_count": 43,
   "metadata": {},
   "outputs": [
    {
     "data": {
      "text/plain": [
       "tensor([0.0874, 0.0837, 0.1727, 0.0320, 0.0709, 0.1744, 0.0730, 0.0004, 0.1017,\n",
       "        0.2037])"
      ]
     },
     "execution_count": 43,
     "metadata": {},
     "output_type": "execute_result"
    }
   ],
   "source": [
    "random_tensor_probabs = random_tensor / random_tensor.sum()\n",
    "random_tensor_probabs"
   ]
  },
  {
   "cell_type": "code",
   "execution_count": 47,
   "metadata": {},
   "outputs": [
    {
     "data": {
      "text/plain": [
       "tensor([0, 9, 4, 8, 8, 8, 9, 5, 2, 4, 2, 9, 9, 2, 2, 5, 9, 0, 5, 0, 0, 1, 2, 5,\n",
       "        9, 8, 2, 5, 1, 8, 4, 5, 5, 5, 9, 1, 9, 6, 2, 1, 1, 6, 6, 6, 9, 0, 0, 1,\n",
       "        9, 9])"
      ]
     },
     "execution_count": 47,
     "metadata": {},
     "output_type": "execute_result"
    }
   ],
   "source": [
    "torch.multinomial(random_tensor_probabs, 50, replacement=True, generator=gen)"
   ]
  }
 ],
 "metadata": {
  "kernelspec": {
   "display_name": "PyTorch",
   "language": "python",
   "name": "pytorch"
  },
  "language_info": {
   "codemirror_mode": {
    "name": "ipython",
    "version": 3
   },
   "file_extension": ".py",
   "mimetype": "text/x-python",
   "name": "python",
   "nbconvert_exporter": "python",
   "pygments_lexer": "ipython3",
   "version": "3.9.0"
  }
 },
 "nbformat": 4,
 "nbformat_minor": 2
}
