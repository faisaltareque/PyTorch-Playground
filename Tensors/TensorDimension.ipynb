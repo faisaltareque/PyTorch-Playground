{
 "cells": [
  {
   "cell_type": "code",
   "execution_count": 1,
   "metadata": {},
   "outputs": [],
   "source": [
    "import torch"
   ]
  },
  {
   "cell_type": "code",
   "execution_count": 2,
   "metadata": {},
   "outputs": [],
   "source": [
    "a = torch.randn(5, 3, 4)"
   ]
  },
  {
   "cell_type": "code",
   "execution_count": 3,
   "metadata": {},
   "outputs": [
    {
     "data": {
      "text/plain": [
       "tensor([[[-0.5509,  0.3951, -1.3916,  1.4671],\n",
       "         [-0.5162,  0.7995, -1.2033, -0.2200],\n",
       "         [ 0.2676,  0.4060,  0.3190,  0.1713]],\n",
       "\n",
       "        [[-1.9916,  1.4774,  0.9488, -0.5068],\n",
       "         [ 1.0864, -0.1612,  0.2118, -0.8164],\n",
       "         [ 0.1097, -0.2565, -1.1209, -0.7171]],\n",
       "\n",
       "        [[-1.4192,  0.4893,  1.1025, -1.0740],\n",
       "         [ 0.4817,  0.2108, -1.9883,  0.0739],\n",
       "         [ 0.4283, -0.1387,  0.6473, -0.5164]],\n",
       "\n",
       "        [[-0.0648, -0.4483, -0.1330, -0.3789],\n",
       "         [-0.8601, -0.1628, -0.1552,  0.9631],\n",
       "         [-0.5872, -0.4752,  0.9242, -0.9560]],\n",
       "\n",
       "        [[ 1.4404, -0.7885,  1.0787,  0.1287],\n",
       "         [ 1.7875, -0.8570, -2.5231,  0.3951],\n",
       "         [ 1.2405, -0.6490,  0.3041, -0.7276]]])"
      ]
     },
     "execution_count": 3,
     "metadata": {},
     "output_type": "execute_result"
    }
   ],
   "source": [
    "a"
   ]
  },
  {
   "cell_type": "code",
   "execution_count": 32,
   "metadata": {},
   "outputs": [
    {
     "data": {
      "text/plain": [
       "torch.Size([5, 3, 4])"
      ]
     },
     "execution_count": 32,
     "metadata": {},
     "output_type": "execute_result"
    }
   ],
   "source": [
    "# 5 matrices, 3 rows, 4 columns\n",
    "a.shape\n"
   ]
  },
  {
   "cell_type": "code",
   "execution_count": 21,
   "metadata": {},
   "outputs": [
    {
     "name": "stdout",
     "output_type": "stream",
     "text": [
      "tensor([[-2.5861,  1.1251,  1.6055, -0.3638],\n",
      "        [ 1.9794, -0.1707, -5.6581,  0.3957],\n",
      "        [ 1.4589, -1.1134,  1.0737, -2.7458]])\n",
      "torch.Size([3, 4])\n"
     ]
    }
   ],
   "source": [
    "print(a.sum(dim=0))\n",
    "print(a.sum(dim=0).shape)"
   ]
  },
  {
   "cell_type": "code",
   "execution_count": 22,
   "metadata": {},
   "outputs": [
    {
     "name": "stdout",
     "output_type": "stream",
     "text": [
      "tensor([[-0.7995,  1.6006, -2.2759,  1.4183],\n",
      "        [-0.7955,  1.0597,  0.0397, -2.0403],\n",
      "        [-0.5092,  0.5614, -0.2385, -1.5165],\n",
      "        [-1.5122, -1.0862,  0.6360, -0.3717],\n",
      "        [ 4.4684, -2.2945, -1.1402, -0.2038]])\n",
      "torch.Size([5, 4])\n"
     ]
    }
   ],
   "source": [
    "print(a.sum(dim=1))\n",
    "print(a.sum(dim=1).shape)"
   ]
  },
  {
   "cell_type": "code",
   "execution_count": 23,
   "metadata": {},
   "outputs": [
    {
     "name": "stdout",
     "output_type": "stream",
     "text": [
      "tensor([[-0.0802, -1.1400,  1.1639],\n",
      "        [-0.0722,  0.3206, -1.9848],\n",
      "        [-0.9013, -1.2218,  0.4205],\n",
      "        [-1.0249, -0.2150, -1.0942],\n",
      "        [ 1.8594, -1.1975,  0.1681]])\n",
      "torch.Size([5, 3])\n"
     ]
    }
   ],
   "source": [
    "print(a.sum(dim=2))\n",
    "print(a.sum(dim=2).shape)"
   ]
  },
  {
   "cell_type": "code",
   "execution_count": 25,
   "metadata": {},
   "outputs": [
    {
     "name": "stdout",
     "output_type": "stream",
     "text": [
      "tensor([[[-2.5861,  1.1251,  1.6055, -0.3638],\n",
      "         [ 1.9794, -0.1707, -5.6581,  0.3957],\n",
      "         [ 1.4589, -1.1134,  1.0737, -2.7458]]])\n",
      "torch.Size([1, 3, 4])\n"
     ]
    }
   ],
   "source": [
    "print(a.sum(dim=0, keepdim=True))\n",
    "print(a.sum(dim=0, keepdim=True).shape)"
   ]
  },
  {
   "cell_type": "code",
   "execution_count": 26,
   "metadata": {},
   "outputs": [
    {
     "name": "stdout",
     "output_type": "stream",
     "text": [
      "tensor([[[-0.7995,  1.6006, -2.2759,  1.4183]],\n",
      "\n",
      "        [[-0.7955,  1.0597,  0.0397, -2.0403]],\n",
      "\n",
      "        [[-0.5092,  0.5614, -0.2385, -1.5165]],\n",
      "\n",
      "        [[-1.5122, -1.0862,  0.6360, -0.3717]],\n",
      "\n",
      "        [[ 4.4684, -2.2945, -1.1402, -0.2038]]])\n",
      "torch.Size([5, 1, 4])\n"
     ]
    }
   ],
   "source": [
    "print(a.sum(dim=1, keepdim=True))\n",
    "print(a.sum(dim=1, keepdim=True).shape)"
   ]
  },
  {
   "cell_type": "code",
   "execution_count": 27,
   "metadata": {},
   "outputs": [
    {
     "name": "stdout",
     "output_type": "stream",
     "text": [
      "tensor([[[-0.0802],\n",
      "         [-1.1400],\n",
      "         [ 1.1639]],\n",
      "\n",
      "        [[-0.0722],\n",
      "         [ 0.3206],\n",
      "         [-1.9848]],\n",
      "\n",
      "        [[-0.9013],\n",
      "         [-1.2218],\n",
      "         [ 0.4205]],\n",
      "\n",
      "        [[-1.0249],\n",
      "         [-0.2150],\n",
      "         [-1.0942]],\n",
      "\n",
      "        [[ 1.8594],\n",
      "         [-1.1975],\n",
      "         [ 0.1681]]])\n",
      "torch.Size([5, 3, 1])\n"
     ]
    }
   ],
   "source": [
    "print(a.sum(dim=2, keepdim=True))\n",
    "print(a.sum(dim=2, keepdim=True).shape)"
   ]
  },
  {
   "cell_type": "code",
   "execution_count": 13,
   "metadata": {},
   "outputs": [],
   "source": [
    "b = torch.tensor([[1, 2, 3, 4, 5],\n",
    "                  [6, 7, 8, 9, 10]])"
   ]
  },
  {
   "cell_type": "code",
   "execution_count": 16,
   "metadata": {},
   "outputs": [
    {
     "data": {
      "text/plain": [
       "torch.Size([2, 5])"
      ]
     },
     "execution_count": 16,
     "metadata": {},
     "output_type": "execute_result"
    }
   ],
   "source": [
    "b.shape"
   ]
  },
  {
   "cell_type": "code",
   "execution_count": 28,
   "metadata": {},
   "outputs": [
    {
     "name": "stdout",
     "output_type": "stream",
     "text": [
      "tensor([ 7,  9, 11, 13, 15])\n",
      "torch.Size([5])\n"
     ]
    }
   ],
   "source": [
    "print(b.sum(dim=0))\n",
    "print(b.sum(dim=0).shape)"
   ]
  },
  {
   "cell_type": "code",
   "execution_count": 29,
   "metadata": {},
   "outputs": [
    {
     "name": "stdout",
     "output_type": "stream",
     "text": [
      "tensor([15, 40])\n",
      "torch.Size([2])\n"
     ]
    }
   ],
   "source": [
    "print(b.sum(dim=1))\n",
    "print(b.sum(dim=1).shape)"
   ]
  },
  {
   "cell_type": "code",
   "execution_count": 30,
   "metadata": {},
   "outputs": [
    {
     "name": "stdout",
     "output_type": "stream",
     "text": [
      "tensor([[ 7,  9, 11, 13, 15]])\n",
      "torch.Size([1, 5])\n"
     ]
    }
   ],
   "source": [
    "print(b.sum(dim=0, keepdim=True))\n",
    "print(b.sum(dim=0, keepdim=True).shape)"
   ]
  },
  {
   "cell_type": "code",
   "execution_count": 31,
   "metadata": {},
   "outputs": [
    {
     "name": "stdout",
     "output_type": "stream",
     "text": [
      "tensor([[15],\n",
      "        [40]])\n",
      "torch.Size([2, 1])\n"
     ]
    }
   ],
   "source": [
    "print(b.sum(dim=1, keepdim=True))\n",
    "print(b.sum(dim=1, keepdim=True).shape)"
   ]
  },
  {
   "cell_type": "code",
   "execution_count": null,
   "metadata": {},
   "outputs": [],
   "source": []
  }
 ],
 "metadata": {
  "kernelspec": {
   "display_name": "PyTorch",
   "language": "python",
   "name": "pytorch"
  },
  "language_info": {
   "codemirror_mode": {
    "name": "ipython",
    "version": 3
   },
   "file_extension": ".py",
   "mimetype": "text/x-python",
   "name": "python",
   "nbconvert_exporter": "python",
   "pygments_lexer": "ipython3",
   "version": "3.11.4"
  }
 },
 "nbformat": 4,
 "nbformat_minor": 2
}
