{
 "cells": [
  {
   "cell_type": "code",
   "execution_count": 1,
   "metadata": {},
   "outputs": [],
   "source": [
    "import torch\n",
    "from torch import nn\n",
    "from torch.utils.data import Dataset, DataLoader\n",
    "from random import randint\n",
    "device = torch.device(\"cuda:0\" if torch.cuda.is_available() else \"mps\" if torch.backends.mps.is_available() else \"cpu\")\n",
    "from tqdm.notebook import tqdm"
   ]
  },
  {
   "cell_type": "code",
   "execution_count": 2,
   "metadata": {},
   "outputs": [],
   "source": [
    "class XORDataset(Dataset):\n",
    "    def __init__(self, size):\n",
    "        self.size = size\n",
    "\n",
    "    def __len__(self):\n",
    "        return self.size\n",
    "\n",
    "    def __getitem__(self, idx):\n",
    "        x = randint(0, 1)\n",
    "        y = randint(0, 1)\n",
    "        return torch.tensor([x, y]), torch.tensor([x ^ y])"
   ]
  },
  {
   "cell_type": "code",
   "execution_count": 3,
   "metadata": {},
   "outputs": [],
   "source": [
    "xor_train = XORDataset(1000)\n",
    "xor_test = XORDataset(100)\n",
    "train_loader = DataLoader(xor_train, batch_size=4, shuffle=True)\n",
    "test_loader = DataLoader(xor_test, batch_size=4, shuffle=True)"
   ]
  },
  {
   "cell_type": "code",
   "execution_count": 4,
   "metadata": {},
   "outputs": [],
   "source": [
    "class XORNet(nn.Module):\n",
    "    def __init__(self):\n",
    "        super().__init__()\n",
    "        self.fc1 = nn.Linear(2, 4)\n",
    "        self.fc2 = nn.Linear(4, 1)\n",
    "\n",
    "    def forward(self, x):\n",
    "        x = torch.sigmoid(self.fc1(x))\n",
    "        x = self.fc2(x)\n",
    "        return torch.sigmoid(x)"
   ]
  },
  {
   "cell_type": "code",
   "execution_count": 5,
   "metadata": {},
   "outputs": [
    {
     "data": {
      "text/plain": [
       "XORNet(\n",
       "  (fc1): Linear(in_features=2, out_features=4, bias=True)\n",
       "  (fc2): Linear(in_features=4, out_features=1, bias=True)\n",
       ")"
      ]
     },
     "execution_count": 5,
     "metadata": {},
     "output_type": "execute_result"
    }
   ],
   "source": [
    "xor_net = XORNet()\n",
    "xor_net.to(device)"
   ]
  },
  {
   "cell_type": "code",
   "execution_count": 6,
   "metadata": {},
   "outputs": [
    {
     "name": "stdout",
     "output_type": "stream",
     "text": [
      "Number of parameters in the model: 17\n"
     ]
    }
   ],
   "source": [
    "def count_parameters(model):\n",
    "    return sum(p.numel() for p in model.parameters() if p.requires_grad)\n",
    "\n",
    "print(f'Number of parameters in the model: {count_parameters(xor_net)}')"
   ]
  },
  {
   "cell_type": "code",
   "execution_count": 7,
   "metadata": {},
   "outputs": [],
   "source": [
    "loss_fn = nn.BCELoss()\n",
    "optimizer = torch.optim.Adam(xor_net.parameters(), lr=0.01)"
   ]
  },
  {
   "cell_type": "code",
   "execution_count": 8,
   "metadata": {},
   "outputs": [
    {
     "name": "stdout",
     "output_type": "stream",
     "text": [
      "Epoch 0: train loss 0.6953675804138184 validation loss 0.7047996068000794 test accuracy 0.44\n",
      "Epoch 1: train loss 0.6505474356412888 validation loss 0.5804151773452759 test accuracy 0.73\n",
      "Epoch 2: train loss 0.5328610790371895 validation loss 0.52809679210186 test accuracy 0.71\n",
      "Epoch 3: train loss 0.4638965935409069 validation loss 0.45193952560424805 test accuracy 0.71\n",
      "Epoch 4: train loss 0.3635666768997908 validation loss 0.2958161759376526 test accuracy 1.0\n",
      "Epoch 5: train loss 0.23187883818149566 validation loss 0.16704378485679627 test accuracy 1.0\n",
      "Epoch 6: train loss 0.1390726335197687 validation loss 0.11331006944179535 test accuracy 1.0\n",
      "Epoch 7: train loss 0.08679552430659533 validation loss 0.07040661692619324 test accuracy 1.0\n",
      "Epoch 8: train loss 0.058327246747910975 validation loss 0.04631608545780182 test accuracy 1.0\n",
      "Epoch 9: train loss 0.04042630817368627 validation loss 0.034579760394990444 test accuracy 1.0\n",
      "Epoch 10: train loss 0.03053604332357645 validation loss 0.02558182630687952 test accuracy 1.0\n",
      "Epoch 11: train loss 0.022775109745562076 validation loss 0.01927344102412462 test accuracy 1.0\n",
      "Epoch 12: train loss 0.018052642134949566 validation loss 0.016327773854136467 test accuracy 1.0\n",
      "Epoch 13: train loss 0.014128433370962739 validation loss 0.013650977686047554 test accuracy 1.0\n",
      "Epoch 14: train loss 0.011829067174345256 validation loss 0.009929621182382107 test accuracy 1.0\n"
     ]
    }
   ],
   "source": [
    "for epoch in range(15):\n",
    "    total_train_loss = 0\n",
    "    total_validation_loss = 0\n",
    "    test_accuracy = 0\n",
    "    for i, (x, y) in enumerate(train_loader):\n",
    "        x, y = x.to(device), y.to(device)\n",
    "        optimizer.zero_grad()\n",
    "        y_pred = xor_net(x.float())\n",
    "        loss = loss_fn(y_pred, y.float())\n",
    "        total_train_loss += loss.item()\n",
    "        loss.backward()\n",
    "        optimizer.step()\n",
    "    with torch.no_grad():\n",
    "        for i, (x, y) in enumerate(test_loader):\n",
    "            x, y = x.to(device), y.to(device)\n",
    "            y_pred = xor_net(x.float())\n",
    "            loss = loss_fn(y_pred, y.float())\n",
    "            total_validation_loss += loss.item()\n",
    "            accuracy = ((y_pred > 0.5) == y).sum().item() / y.shape[0]\n",
    "            test_accuracy += accuracy\n",
    "    print(f\"Epoch {epoch}: train loss {total_train_loss / len(train_loader)} validation loss {total_validation_loss / len(test_loader)} test accuracy {test_accuracy / len(test_loader)}\")"
   ]
  },
  {
   "cell_type": "code",
   "execution_count": 9,
   "metadata": {},
   "outputs": [],
   "source": [
    "pred = xor_net(torch.tensor([[0, 0], [0, 1], [1, 0], [1, 1]]).float().to(device))"
   ]
  },
  {
   "cell_type": "code",
   "execution_count": 10,
   "metadata": {},
   "outputs": [
    {
     "data": {
      "text/plain": [
       "tensor([[0],\n",
       "        [1],\n",
       "        [1],\n",
       "        [0]], device='mps:0', dtype=torch.int32)"
      ]
     },
     "execution_count": 10,
     "metadata": {},
     "output_type": "execute_result"
    }
   ],
   "source": [
    "(pred > 0.5 ).int()"
   ]
  },
  {
   "cell_type": "code",
   "execution_count": null,
   "metadata": {},
   "outputs": [],
   "source": []
  }
 ],
 "metadata": {
  "kernelspec": {
   "display_name": "PyTorch",
   "language": "python",
   "name": "pytorch"
  },
  "language_info": {
   "codemirror_mode": {
    "name": "ipython",
    "version": 3
   },
   "file_extension": ".py",
   "mimetype": "text/x-python",
   "name": "python",
   "nbconvert_exporter": "python",
   "pygments_lexer": "ipython3",
   "version": "3.11.4"
  }
 },
 "nbformat": 4,
 "nbformat_minor": 2
}
