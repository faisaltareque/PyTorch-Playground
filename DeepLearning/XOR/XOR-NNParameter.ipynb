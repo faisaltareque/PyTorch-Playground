{
 "cells": [
  {
   "cell_type": "code",
   "execution_count": 1,
   "metadata": {},
   "outputs": [],
   "source": [
    "import torch\n",
    "from torch import nn\n",
    "from torch.utils.data import Dataset, DataLoader\n",
    "from random import randint\n",
    "device = torch.device(\"cuda:0\" if torch.cuda.is_available() else \"mps\" if torch.backends.mps.is_available() else \"cpu\")\n",
    "from tqdm.notebook import tqdm"
   ]
  },
  {
   "cell_type": "code",
   "execution_count": 2,
   "metadata": {},
   "outputs": [],
   "source": [
    "class XORDataset(Dataset):\n",
    "    def __init__(self, size):\n",
    "        self.size = size\n",
    "\n",
    "    def __len__(self):\n",
    "        return self.size\n",
    "\n",
    "    def __getitem__(self, idx):\n",
    "        x = randint(0, 1)\n",
    "        y = randint(0, 1)\n",
    "        return torch.tensor([x, y]), torch.tensor([x ^ y])"
   ]
  },
  {
   "cell_type": "code",
   "execution_count": 3,
   "metadata": {},
   "outputs": [],
   "source": [
    "xor_train = XORDataset(1000)\n",
    "xor_test = XORDataset(100)\n",
    "train_loader = DataLoader(xor_train, batch_size=4, shuffle=True)\n",
    "test_loader = DataLoader(xor_test, batch_size=4, shuffle=True)"
   ]
  },
  {
   "cell_type": "code",
   "execution_count": 4,
   "metadata": {},
   "outputs": [],
   "source": [
    "class XORNet(nn.Module):\n",
    "    def __init__(self):\n",
    "        super().__init__()\n",
    "        \n",
    "        self.w1 = nn.Parameter(torch.randn(2, 4, requires_grad=True))\n",
    "        self.b1 = nn.Parameter(torch.randn(4, requires_grad=True))\n",
    "        self.w2 = nn.Parameter(torch.randn(4, 1, requires_grad=True))\n",
    "        self.b2 = nn.Parameter(torch.randn(1, requires_grad=True))\n",
    " \n",
    "    def forward(self, x):\n",
    "        # implement forward pass\n",
    "        # x = batch_size x 2, 2 is the number of features\n",
    "\n",
    "        # Verbrose version\n",
    "        # w1 = 2 x 4, 4 is the number of hidden units\n",
    "        # b1 = 1 x 4, 4 is the number of hidden units\n",
    "        # torch.matmul(x, w1) = (batch_size x 2) x (2 x 4) = batch_size x 4  \n",
    "        # torch.matmul(x, w1) + b1 = batch_size x 4 + 1 x 4 = batch_size x 4\n",
    "        x = torch.matmul(x, self.w1) + self.b1 \n",
    "        x = torch.sigmoid(x)\n",
    "        x = torch.matmul(x, self.w2) + self.b2\n",
    "        x = torch.sigmoid(x)\n",
    "\n",
    "        # Concise version\n",
    "        # x = torch.sigmoid(x @ self.w1 + self.b1)\n",
    "        # x = torch.sigmoid(x @ self.w2 + self.b2)\n",
    "        return x"
   ]
  },
  {
   "cell_type": "code",
   "execution_count": 5,
   "metadata": {},
   "outputs": [
    {
     "data": {
      "text/plain": [
       "XORNet()"
      ]
     },
     "execution_count": 5,
     "metadata": {},
     "output_type": "execute_result"
    }
   ],
   "source": [
    "xor_net = XORNet()\n",
    "xor_net.to(device)"
   ]
  },
  {
   "cell_type": "code",
   "execution_count": 6,
   "metadata": {},
   "outputs": [
    {
     "name": "stdout",
     "output_type": "stream",
     "text": [
      "Number of parameters in the model: 17\n"
     ]
    }
   ],
   "source": [
    "def count_parameters(model):\n",
    "    return sum(p.numel() for p in model.parameters() if p.requires_grad)\n",
    "\n",
    "print(f'Number of parameters in the model: {count_parameters(xor_net)}')"
   ]
  },
  {
   "cell_type": "code",
   "execution_count": 7,
   "metadata": {},
   "outputs": [],
   "source": [
    "loss_fn = nn.BCELoss()\n",
    "optimizer = torch.optim.Adam(xor_net.parameters(), lr=0.01)"
   ]
  },
  {
   "cell_type": "code",
   "execution_count": 8,
   "metadata": {},
   "outputs": [
    {
     "name": "stdout",
     "output_type": "stream",
     "text": [
      "Epoch 0: train loss 0.6714922738075256 validation loss 0.6674622559547424 test accuracy 0.63\n",
      "Epoch 1: train loss 0.5793871027231217 validation loss 0.51549560546875 test accuracy 0.71\n",
      "Epoch 2: train loss 0.45628410899639127 validation loss 0.4161962366104126 test accuracy 1.0\n",
      "Epoch 3: train loss 0.3334219079017639 validation loss 0.27913627207279207 test accuracy 1.0\n",
      "Epoch 4: train loss 0.2222734870314598 validation loss 0.1778747010231018 test accuracy 1.0\n",
      "Epoch 5: train loss 0.13979574462771416 validation loss 0.10922032535076141 test accuracy 1.0\n",
      "Epoch 6: train loss 0.0896419452726841 validation loss 0.0722236853837967 test accuracy 1.0\n",
      "Epoch 7: train loss 0.06057548549771309 validation loss 0.0502554976940155 test accuracy 1.0\n",
      "Epoch 8: train loss 0.043482094347476956 validation loss 0.036636829823255536 test accuracy 1.0\n",
      "Epoch 9: train loss 0.03233708334714174 validation loss 0.02796132765710354 test accuracy 1.0\n"
     ]
    }
   ],
   "source": [
    "for epoch in range(10):\n",
    "    total_train_loss = 0\n",
    "    total_validation_loss = 0\n",
    "    test_accuracy = 0\n",
    "    for i, (x, y) in enumerate(train_loader):\n",
    "        x, y = x.to(device), y.to(device)\n",
    "        optimizer.zero_grad()\n",
    "        y_pred = xor_net(x.float())\n",
    "        loss = loss_fn(y_pred, y.float())\n",
    "        total_train_loss += loss.item()\n",
    "        loss.backward()\n",
    "        optimizer.step()\n",
    "    with torch.no_grad():\n",
    "        for i, (x, y) in enumerate(test_loader):\n",
    "            x, y = x.to(device), y.to(device)\n",
    "            y_pred = xor_net(x.float())\n",
    "            loss = loss_fn(y_pred, y.float())\n",
    "            total_validation_loss += loss.item()\n",
    "            accuracy = ((y_pred > 0.5) == y).sum().item() / y.shape[0]\n",
    "            test_accuracy += accuracy\n",
    "    print(f\"Epoch {epoch}: train loss {total_train_loss / len(train_loader)} validation loss {total_validation_loss / len(test_loader)} test accuracy {test_accuracy / len(test_loader)}\")"
   ]
  },
  {
   "cell_type": "code",
   "execution_count": 9,
   "metadata": {},
   "outputs": [],
   "source": [
    "pred = xor_net(torch.tensor([[0, 0], [0, 1], [1, 0], [1, 1]]).float().to(device))"
   ]
  },
  {
   "cell_type": "code",
   "execution_count": 10,
   "metadata": {},
   "outputs": [
    {
     "data": {
      "text/plain": [
       "tensor([[0],\n",
       "        [1],\n",
       "        [1],\n",
       "        [0]], device='mps:0', dtype=torch.int32)"
      ]
     },
     "execution_count": 10,
     "metadata": {},
     "output_type": "execute_result"
    }
   ],
   "source": [
    "(pred > 0.5 ).int()"
   ]
  },
  {
   "cell_type": "code",
   "execution_count": 11,
   "metadata": {},
   "outputs": [],
   "source": [
    "a_data = torch.tensor([[0, 0], [0, 1], [1, 0], [1, 1]]).float()\n",
    "w = torch.randn(2, 4)\n",
    "b = torch.randn(4)\n"
   ]
  },
  {
   "cell_type": "code",
   "execution_count": 12,
   "metadata": {},
   "outputs": [
    {
     "data": {
      "text/plain": [
       "torch.Size([4, 2])"
      ]
     },
     "execution_count": 12,
     "metadata": {},
     "output_type": "execute_result"
    }
   ],
   "source": [
    "a_data.shape"
   ]
  },
  {
   "cell_type": "code",
   "execution_count": 13,
   "metadata": {},
   "outputs": [
    {
     "data": {
      "text/plain": [
       "torch.Size([2, 4])"
      ]
     },
     "execution_count": 13,
     "metadata": {},
     "output_type": "execute_result"
    }
   ],
   "source": [
    "w.shape"
   ]
  },
  {
   "cell_type": "code",
   "execution_count": null,
   "metadata": {},
   "outputs": [],
   "source": []
  }
 ],
 "metadata": {
  "kernelspec": {
   "display_name": "PyTorch",
   "language": "python",
   "name": "pytorch"
  },
  "language_info": {
   "codemirror_mode": {
    "name": "ipython",
    "version": 3
   },
   "file_extension": ".py",
   "mimetype": "text/x-python",
   "name": "python",
   "nbconvert_exporter": "python",
   "pygments_lexer": "ipython3",
   "version": "3.11.4"
  }
 },
 "nbformat": 4,
 "nbformat_minor": 2
}
