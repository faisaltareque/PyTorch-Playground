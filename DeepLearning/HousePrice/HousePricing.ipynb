{
 "cells": [
  {
   "cell_type": "code",
   "execution_count": 1,
   "metadata": {},
   "outputs": [
    {
     "name": "stdout",
     "output_type": "stream",
     "text": [
      "['MedInc', 'HouseAge', 'AveRooms', 'AveBedrms', 'Population', 'AveOccup', 'Latitude', 'Longitude']\n"
     ]
    }
   ],
   "source": [
    "from sklearn.datasets import fetch_california_housing \n",
    "data = fetch_california_housing()\n",
    "print(data.feature_names) \n",
    "X, y = data.data, data.target\n",
    "import copy\n",
    "import numpy as np\n",
    "import torch\n",
    "import tqdm\n",
    "from sklearn.model_selection import train_test_split \n",
    "# train-test split of the dataset\n",
    "X_train, X_test, y_train, y_test = train_test_split(X, y, train_size=0.7, shuffle=True)\n"
   ]
  },
  {
   "cell_type": "code",
   "execution_count": 2,
   "metadata": {},
   "outputs": [],
   "source": [
    "import torch\n",
    "from torch.utils.data import TensorDataset, DataLoader, Dataset"
   ]
  },
  {
   "cell_type": "code",
   "execution_count": 3,
   "metadata": {},
   "outputs": [],
   "source": [
    "class HousingDataset(Dataset):\n",
    "    def __init__(self, X, y):\n",
    "        self.X = torch.from_numpy(X).float()\n",
    "        self.y = torch.from_numpy(y).float().reshape(-1, 1)\n",
    "    def __getitem__(self, index):\n",
    "        return self.X[index], self.y[index]\n",
    "    def __len__(self):\n",
    "        return len(self.X)"
   ]
  },
  {
   "cell_type": "code",
   "execution_count": 4,
   "metadata": {},
   "outputs": [],
   "source": [
    "training_data = HousingDataset(X_train, y_train)\n",
    "test_data = HousingDataset(X_test, y_test)\n",
    "\n",
    "train_loader = DataLoader(training_data, batch_size=16, shuffle=True)\n",
    "test_loader = DataLoader(test_data, batch_size=16, shuffle=True)\n"
   ]
  },
  {
   "cell_type": "code",
   "execution_count": 5,
   "metadata": {},
   "outputs": [],
   "source": [
    "class HousingNet(torch.nn.Module):\n",
    "    def __init__(self, n_features):\n",
    "        super(HousingNet, self).__init__()\n",
    "        self.fc1 = torch.nn.Linear(n_features, 64)\n",
    "        self.fc2 = torch.nn.Linear(64, 256)\n",
    "        self.fc3 = torch.nn.Linear(256, 64)\n",
    "        self.fc4 = torch.nn.Linear(64, 1)\n",
    "    def forward(self, x):\n",
    "        x = torch.relu(self.fc1(x))\n",
    "        x = torch.relu(self.fc2(x))\n",
    "        x = torch.relu(self.fc3(x)) \n",
    "        x = self.fc4(x)\n",
    "        return x"
   ]
  },
  {
   "cell_type": "code",
   "execution_count": 6,
   "metadata": {},
   "outputs": [],
   "source": [
    "housing_net = HousingNet(X.shape[1]).to('cuda')\n",
    "loss_fn = torch.nn.MSELoss()\n",
    "optimizer = torch.optim.Adam(housing_net.parameters(), lr=1e-4)"
   ]
  },
  {
   "cell_type": "code",
   "execution_count": 7,
   "metadata": {},
   "outputs": [
    {
     "data": {
      "text/plain": [
       "33729"
      ]
     },
     "execution_count": 7,
     "metadata": {},
     "output_type": "execute_result"
    }
   ],
   "source": [
    "# number of parameters in the model\n",
    "num_params = sum(p.numel() for p in housing_net.parameters() if p.requires_grad)\n",
    "num_params"
   ]
  },
  {
   "cell_type": "code",
   "execution_count": 8,
   "metadata": {},
   "outputs": [
    {
     "name": "stderr",
     "output_type": "stream",
     "text": [
      "100%|██████████| 903/903 [00:03<00:00, 292.46batch/s, loss=1.27] \n",
      "100%|██████████| 903/903 [00:02<00:00, 384.95batch/s, loss=1.94] \n",
      "100%|██████████| 903/903 [00:02<00:00, 363.21batch/s, loss=0.726]\n",
      "100%|██████████| 903/903 [00:02<00:00, 358.52batch/s, loss=1.26] \n",
      "100%|██████████| 903/903 [00:02<00:00, 357.01batch/s, loss=2.39] \n",
      "100%|██████████| 903/903 [00:02<00:00, 364.72batch/s, loss=0.575]\n",
      "100%|██████████| 903/903 [00:02<00:00, 365.88batch/s, loss=0.667]\n",
      "100%|██████████| 903/903 [00:02<00:00, 354.83batch/s, loss=3.28] \n",
      "100%|██████████| 903/903 [00:02<00:00, 362.66batch/s, loss=0.79] \n",
      "100%|██████████| 903/903 [00:02<00:00, 364.11batch/s, loss=0.989]\n",
      "100%|██████████| 903/903 [00:02<00:00, 355.66batch/s, loss=0.613]\n",
      "100%|██████████| 903/903 [00:02<00:00, 355.70batch/s, loss=5.67] \n",
      "100%|██████████| 903/903 [00:02<00:00, 355.90batch/s, loss=0.589]\n",
      "100%|██████████| 903/903 [00:02<00:00, 367.65batch/s, loss=0.752]\n",
      "100%|██████████| 903/903 [00:02<00:00, 373.37batch/s, loss=0.802]\n",
      "100%|██████████| 903/903 [00:02<00:00, 354.75batch/s, loss=0.477]\n",
      "100%|██████████| 903/903 [00:02<00:00, 366.04batch/s, loss=1.09] \n",
      "100%|██████████| 903/903 [00:02<00:00, 353.99batch/s, loss=0.637]\n",
      "100%|██████████| 903/903 [00:02<00:00, 367.51batch/s, loss=5.78] \n",
      "100%|██████████| 903/903 [00:02<00:00, 353.54batch/s, loss=0.972]\n",
      "100%|██████████| 903/903 [00:02<00:00, 362.62batch/s, loss=0.948]\n",
      "100%|██████████| 903/903 [00:02<00:00, 355.90batch/s, loss=0.747]\n",
      "100%|██████████| 903/903 [00:02<00:00, 357.14batch/s, loss=0.531]\n",
      "100%|██████████| 903/903 [00:02<00:00, 371.15batch/s, loss=0.294]\n",
      "100%|██████████| 903/903 [00:02<00:00, 354.81batch/s, loss=0.382]\n",
      "100%|██████████| 903/903 [00:02<00:00, 354.59batch/s, loss=0.335]\n",
      "100%|██████████| 903/903 [00:02<00:00, 364.93batch/s, loss=0.392]\n",
      "100%|██████████| 903/903 [00:02<00:00, 358.60batch/s, loss=0.597]\n",
      "100%|██████████| 903/903 [00:02<00:00, 361.88batch/s, loss=0.759]\n",
      "100%|██████████| 903/903 [00:02<00:00, 358.62batch/s, loss=0.419]\n",
      "100%|██████████| 903/903 [00:02<00:00, 349.33batch/s, loss=0.752]\n",
      "100%|██████████| 903/903 [00:02<00:00, 353.24batch/s, loss=0.818]\n",
      "100%|██████████| 903/903 [00:02<00:00, 387.36batch/s, loss=1.54]  \n",
      "100%|██████████| 903/903 [00:02<00:00, 380.85batch/s, loss=0.662]\n",
      "100%|██████████| 903/903 [00:02<00:00, 349.90batch/s, loss=0.764] \n",
      "100%|██████████| 903/903 [00:02<00:00, 349.23batch/s, loss=0.316]\n",
      "100%|██████████| 903/903 [00:02<00:00, 393.23batch/s, loss=0.689]\n",
      "100%|██████████| 903/903 [00:02<00:00, 354.13batch/s, loss=0.511]\n",
      "100%|██████████| 903/903 [00:02<00:00, 380.44batch/s, loss=0.947] \n",
      "100%|██████████| 903/903 [00:02<00:00, 353.63batch/s, loss=0.546]\n",
      "100%|██████████| 903/903 [00:02<00:00, 391.62batch/s, loss=0.486]\n",
      "100%|██████████| 903/903 [00:02<00:00, 340.85batch/s, loss=0.329]\n",
      "100%|██████████| 903/903 [00:02<00:00, 393.33batch/s, loss=0.268] \n",
      "100%|██████████| 903/903 [00:02<00:00, 392.14batch/s, loss=0.315]\n",
      "100%|██████████| 903/903 [00:02<00:00, 384.45batch/s, loss=0.412]\n",
      "100%|██████████| 903/903 [00:02<00:00, 364.33batch/s, loss=0.26] \n",
      "100%|██████████| 903/903 [00:02<00:00, 369.96batch/s, loss=0.143]\n",
      "100%|██████████| 903/903 [00:02<00:00, 407.35batch/s, loss=0.243]\n",
      "100%|██████████| 903/903 [00:02<00:00, 387.42batch/s, loss=0.903]\n",
      "100%|██████████| 903/903 [00:02<00:00, 385.96batch/s, loss=0.186]\n"
     ]
    },
    {
     "data": {
      "text/plain": [
       "<All keys matched successfully>"
      ]
     },
     "execution_count": 8,
     "metadata": {},
     "output_type": "execute_result"
    }
   ],
   "source": [
    "# Hold the best model\n",
    "best_mse = np.inf   # init to infinity\n",
    "best_weights = None\n",
    "history = []\n",
    "train_history = [] \n",
    "# training loop\n",
    "for epoch in range(50):\n",
    "    housing_net.train()\n",
    "    mse = 0\n",
    "    with tqdm.tqdm(train_loader, unit=\"batch\") as bar:\n",
    "        for X, y in bar:\n",
    "            X = X.to('cuda')\n",
    "            y = y.to('cuda')\n",
    "            y_pred = housing_net(X)\n",
    "            loss = loss_fn(y_pred, y)\n",
    "            mse += loss.item()\n",
    "            mse /= len(train_loader)\n",
    "            train_history.append(mse)\n",
    "            optimizer.zero_grad()\n",
    "            loss.backward()\n",
    "            optimizer.step()\n",
    "            bar.set_postfix(loss=loss.item())\n",
    "\n",
    "    # evaluate on test set\n",
    "    housing_net.eval()\n",
    "    with torch.no_grad():\n",
    "        mse = 0\n",
    "        for X, y in test_loader:\n",
    "            X = X.to('cuda')\n",
    "            y = y.to('cuda')\n",
    "            y_pred = housing_net(X)\n",
    "            mse += loss_fn(y_pred, y).item()\n",
    "        mse /= len(test_loader)\n",
    "        history.append(mse)\n",
    "        if mse < best_mse:\n",
    "            best_mse = mse\n",
    "            best_weights = copy.deepcopy(housing_net.state_dict())\n",
    "\n",
    "# load the best weights\n",
    "housing_net.load_state_dict(best_weights)       "
   ]
  },
  {
   "cell_type": "code",
   "execution_count": 9,
   "metadata": {},
   "outputs": [
    {
     "name": "stdout",
     "output_type": "stream",
     "text": [
      "MSE: 0.57\n",
      "RMSE: 0.75\n"
     ]
    },
    {
     "data": {
      "image/png": "[encoded data removed]",
      "text/plain": [
       "<Figure size 640x480 with 1 Axes>"
      ]
     },
     "metadata": {},
     "output_type": "display_data"
    }
   ],
   "source": [
    "import matplotlib.pyplot as plt\n",
    "print(\"MSE: %.2f\" % best_mse)\n",
    "print(\"RMSE: %.2f\" % np.sqrt(best_mse))\n",
    "plt.plot(train_history)\n",
    "plt.show()"
   ]
  },
  {
   "cell_type": "code",
   "execution_count": 10,
   "metadata": {},
   "outputs": [
    {
     "name": "stdout",
     "output_type": "stream",
     "text": [
      "1.857 [1.3558881]\n"
     ]
    },
    {
     "data": {
      "text/plain": [
       "Text(0, 0.5, 'Predictions')"
      ]
     },
     "execution_count": 10,
     "metadata": {},
     "output_type": "execute_result"
    },
    {
     "data": {
      "image/png": "[encoded data removed]",
      "text/plain": [
       "<Figure size 640x480 with 1 Axes>"
      ]
     },
     "metadata": {},
     "output_type": "display_data"
    }
   ],
   "source": [
    "pred = housing_net(torch.from_numpy(X_test[0]).float().to('cuda'))\n",
    "pred = pred.cpu().detach().numpy()\n",
    "plt.scatter(y_test[0], pred)\n",
    "print(y_test[0], pred)\n",
    "plt.xlabel('True Values')\n",
    "plt.ylabel('Predictions')\n",
    "# plt.axis('equal')\n",
    "# plt.xlim(plt.xlim())\n",
    "# plt.ylim(plt.ylim())\n",
    "# plt.plot([-100, 100], [-100, 100])\n",
    "# plt.show()"
   ]
  },
  {
   "cell_type": "code",
   "execution_count": null,
   "metadata": {},
   "outputs": [],
   "source": []
  }
 ],
 "metadata": {
  "kernelspec": {
   "display_name": "PyTorch",
   "language": "python",
   "name": "pytorch"
  },
  "language_info": {
   "codemirror_mode": {
    "name": "ipython",
    "version": 3
   },
   "file_extension": ".py",
   "mimetype": "text/x-python",
   "name": "python",
   "nbconvert_exporter": "python",
   "pygments_lexer": "ipython3",
   "version": "3.9.0"
  }
 },
 "nbformat": 4,
 "nbformat_minor": 2
}
