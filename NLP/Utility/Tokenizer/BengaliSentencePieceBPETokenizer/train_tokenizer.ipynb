{
 "cells": [
  {
   "cell_type": "code",
   "execution_count": 7,
   "metadata": {},
   "outputs": [],
   "source": [
    "import tokenizers\n",
    "import transformers\n",
    "import multiprocessing\n",
    "from datasets import load_dataset\n",
    "from torch.utils.data import DataLoader\n",
    "from tokenizers import SentencePieceBPETokenizer"
   ]
  },
  {
   "cell_type": "code",
   "execution_count": 2,
   "metadata": {},
   "outputs": [
    {
     "name": "stderr",
     "output_type": "stream",
     "text": [
      "Found cached dataset text (/home/faisaltareque/.cache/huggingface/datasets/text/default-cc5e319c529404e0/0.0.0/cb1e9bd71a82ad27976be3b12b407850fe2837d80c22c5e03a28949843a8ace2)\n"
     ]
    },
    {
     "data": {
      "application/vnd.jupyter.widget-view+json": {
       "model_id": "9ade466d6a46426bb2dcb485a52817f9",
       "version_major": 2,
       "version_minor": 0
      },
      "text/plain": [
       "  0%|          | 0/3 [00:00<?, ?it/s]"
      ]
     },
     "metadata": {},
     "output_type": "display_data"
    }
   ],
   "source": [
    "dataset = load_dataset(\"text\", data_dir=\"/home/faisaltareque/Dev/Local/BENMT/data/Bangla\")"
   ]
  },
  {
   "cell_type": "code",
   "execution_count": 3,
   "metadata": {},
   "outputs": [],
   "source": [
    "def get_training_corpus(dataset):\n",
    "    dataset = dataset[\"train\"]\n",
    "    for start_idx in range(0, len(dataset), 1000):\n",
    "        samples = dataset[start_idx : start_idx + 1000]\n",
    "        yield samples[\"text\"]\n",
    "training_corpus = get_training_corpus(dataset)"
   ]
  },
  {
   "cell_type": "code",
   "execution_count": 4,
   "metadata": {},
   "outputs": [],
   "source": [
    "special_tokens = [\"<s>\", \"<pad>\", \"</s>\", \"<unk>\", \"<cls>\", \"<sep>\", \"<mask>\"]"
   ]
  },
  {
   "cell_type": "code",
   "execution_count": 5,
   "metadata": {},
   "outputs": [
    {
     "name": "stdout",
     "output_type": "stream",
     "text": [
      "\n",
      "\n",
      "\n"
     ]
    }
   ],
   "source": [
    "tokenizer = SentencePieceBPETokenizer()\n",
    "tokenizer.train_from_iterator(\n",
    "    training_corpus,\n",
    "    vocab_size=32000,\n",
    "    min_frequency=5,\n",
    "    show_progress=True,\n",
    "    special_tokens = special_tokens\n",
    ")"
   ]
  },
  {
   "cell_type": "code",
   "execution_count": 6,
   "metadata": {},
   "outputs": [],
   "source": [
    "tokenizer.save(\"BengaliSentencePieceBPETokenizer\")"
   ]
  },
  {
   "cell_type": "code",
   "execution_count": 8,
   "metadata": {},
   "outputs": [
    {
     "data": {
      "text/plain": [
       "('BengaliSentencePieceBPETokenizerFast/tokenizer_config.json',\n",
       " 'BengaliSentencePieceBPETokenizerFast/special_tokens_map.json',\n",
       " 'BengaliSentencePieceBPETokenizerFast/tokenizer.json')"
      ]
     },
     "execution_count": 8,
     "metadata": {},
     "output_type": "execute_result"
    }
   ],
   "source": [
    "new_tokenizer = transformers.PreTrainedTokenizerFast(tokenizer_object=tokenizer, model_max_length=1024, special_tokens=special_tokens)\n",
    "new_tokenizer.bos_token = \"<s>\"\n",
    "new_tokenizer.bos_token_id = tokenizer.token_to_id(\"<s>\")\n",
    "new_tokenizer.pad_token = \"<pad>\"\n",
    "new_tokenizer.pad_token_id = tokenizer.token_to_id(\"<pad>\")\n",
    "new_tokenizer.eos_token = \"</s>\"\n",
    "new_tokenizer.eos_token_id = tokenizer.token_to_id(\"</s>\")\n",
    "new_tokenizer.unk_token = \"<unk>\"\n",
    "new_tokenizer.unk_token_id = tokenizer.token_to_id(\"<unk>\")\n",
    "new_tokenizer.cls_token = \"<cls>\"\n",
    "new_tokenizer.cls_token_id = tokenizer.token_to_id(\"<cls>\")\n",
    "new_tokenizer.sep_token = \"<sep>\"\n",
    "new_tokenizer.sep_token_id = tokenizer.token_to_id(\"<sep>\")\n",
    "new_tokenizer.mask_token = \"<mask>\"\n",
    "new_tokenizer.mask_token_id = tokenizer.token_to_id(\"<mask>\")\n",
    "# and save for later!\n",
    "new_tokenizer.save_pretrained(\"BengaliSentencePieceBPETokenizerFast\")"
   ]
  },
  {
   "cell_type": "code",
   "execution_count": null,
   "metadata": {},
   "outputs": [],
   "source": []
  }
 ],
 "metadata": {
  "kernelspec": {
   "display_name": "PyTorch",
   "language": "python",
   "name": "pytorch"
  },
  "language_info": {
   "codemirror_mode": {
    "name": "ipython",
    "version": 3
   },
   "file_extension": ".py",
   "mimetype": "text/x-python",
   "name": "python",
   "nbconvert_exporter": "python",
   "pygments_lexer": "ipython3",
   "version": "3.11.3"
  },
  "orig_nbformat": 4
 },
 "nbformat": 4,
 "nbformat_minor": 2
}
