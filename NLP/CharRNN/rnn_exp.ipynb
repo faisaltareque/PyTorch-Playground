{
 "cells": [
  {
   "cell_type": "code",
   "execution_count": 95,
   "metadata": {},
   "outputs": [],
   "source": [
    "import torch"
   ]
  },
  {
   "cell_type": "code",
   "execution_count": 96,
   "metadata": {},
   "outputs": [],
   "source": [
    "text_sequence = torch.LongTensor([[1, 2, 3, 4, 5, 6, 7],[1, 2, 3, 4, 5, 6, 7]])"
   ]
  },
  {
   "cell_type": "code",
   "execution_count": 97,
   "metadata": {},
   "outputs": [
    {
     "data": {
      "text/plain": [
       "tensor([[1, 2, 3, 4, 5, 6, 7],\n",
       "        [1, 2, 3, 4, 5, 6, 7]])"
      ]
     },
     "execution_count": 97,
     "metadata": {},
     "output_type": "execute_result"
    }
   ],
   "source": [
    "text_sequence"
   ]
  },
  {
   "cell_type": "code",
   "execution_count": 98,
   "metadata": {},
   "outputs": [],
   "source": [
    "vocab_size = 10\n",
    "embedding_dim = 3\n",
    "embedding_layer = torch.nn.Embedding(num_embeddings=vocab_size, embedding_dim=embedding_dim)"
   ]
  },
  {
   "cell_type": "code",
   "execution_count": 99,
   "metadata": {},
   "outputs": [],
   "source": [
    "embeddings = embedding_layer(text_sequence)"
   ]
  },
  {
   "cell_type": "code",
   "execution_count": 100,
   "metadata": {},
   "outputs": [
    {
     "data": {
      "text/plain": [
       "torch.Size([2, 7, 3])"
      ]
     },
     "execution_count": 100,
     "metadata": {},
     "output_type": "execute_result"
    }
   ],
   "source": [
    "embeddings.shape"
   ]
  },
  {
   "cell_type": "code",
   "execution_count": 101,
   "metadata": {},
   "outputs": [
    {
     "data": {
      "text/plain": [
       "torch.Size([2, 7, 3])"
      ]
     },
     "execution_count": 101,
     "metadata": {},
     "output_type": "execute_result"
    }
   ],
   "source": [
    "embeddings.view(2, -1, 3).shape # batch_size, sequence_length, embedding_dim"
   ]
  },
  {
   "cell_type": "code",
   "execution_count": 106,
   "metadata": {},
   "outputs": [],
   "source": [
    "num_layers = 2\n",
    "batch_size = 2\n",
    "hidden_size = 5\n",
    "hidden = torch.zeros(num_layers, batch_size, hidden_size)\n",
    "rnn_layer = torch.nn.RNN(input_size=3, hidden_size=hidden_size, batch_first=True, num_layers=num_layers, bias=False)"
   ]
  },
  {
   "cell_type": "code",
   "execution_count": 107,
   "metadata": {},
   "outputs": [
    {
     "data": {
      "text/plain": [
       "tensor([[[0., 0., 0., 0., 0.],\n",
       "         [0., 0., 0., 0., 0.]],\n",
       "\n",
       "        [[0., 0., 0., 0., 0.],\n",
       "         [0., 0., 0., 0., 0.]]])"
      ]
     },
     "execution_count": 107,
     "metadata": {},
     "output_type": "execute_result"
    }
   ],
   "source": [
    "hidden"
   ]
  },
  {
   "cell_type": "code",
   "execution_count": 108,
   "metadata": {},
   "outputs": [
    {
     "data": {
      "text/plain": [
       "tensor([[[-0.1585, -0.1057, -0.0623,  0.0574, -0.0072],\n",
       "         [ 0.0988,  0.1643,  0.0838,  0.0683, -0.3297],\n",
       "         [ 0.2076,  0.3346,  0.3153, -0.1710, -0.2642],\n",
       "         [ 0.0518,  0.2112,  0.3727,  0.0225, -0.5084],\n",
       "         [-0.6566, -0.1635, -0.4729,  0.0502, -0.2645],\n",
       "         [ 0.3646,  0.2275, -0.0118, -0.3770, -0.0481],\n",
       "         [-0.2796,  0.0548, -0.0805,  0.1433, -0.0453]],\n",
       "\n",
       "        [[-0.1585, -0.1057, -0.0623,  0.0574, -0.0072],\n",
       "         [ 0.0988,  0.1643,  0.0838,  0.0683, -0.3297],\n",
       "         [ 0.2076,  0.3346,  0.3153, -0.1710, -0.2642],\n",
       "         [ 0.0518,  0.2112,  0.3727,  0.0225, -0.5084],\n",
       "         [-0.6566, -0.1635, -0.4729,  0.0502, -0.2645],\n",
       "         [ 0.3646,  0.2275, -0.0118, -0.3770, -0.0481],\n",
       "         [-0.2796,  0.0548, -0.0805,  0.1433, -0.0453]]],\n",
       "       grad_fn=<TransposeBackward1>)"
      ]
     },
     "execution_count": 108,
     "metadata": {},
     "output_type": "execute_result"
    }
   ],
   "source": [
    "out, hidden = rnn_layer(embeddings.view(2, -1, 3), hidden)\n",
    "out\n"
   ]
  },
  {
   "cell_type": "code",
   "execution_count": 109,
   "metadata": {},
   "outputs": [
    {
     "data": {
      "text/plain": [
       "torch.Size([2, 35])"
      ]
     },
     "execution_count": 109,
     "metadata": {},
     "output_type": "execute_result"
    }
   ],
   "source": [
    "out.reshape(out.shape[0], -1).shape"
   ]
  }
 ],
 "metadata": {
  "kernelspec": {
   "display_name": "PyTorch",
   "language": "python",
   "name": "pytorch"
  },
  "language_info": {
   "codemirror_mode": {
    "name": "ipython",
    "version": 3
   },
   "file_extension": ".py",
   "mimetype": "text/x-python",
   "name": "python",
   "nbconvert_exporter": "python",
   "pygments_lexer": "ipython3",
   "version": "3.11.0"
  },
  "orig_nbformat": 4
 },
 "nbformat": 4,
 "nbformat_minor": 2
}
