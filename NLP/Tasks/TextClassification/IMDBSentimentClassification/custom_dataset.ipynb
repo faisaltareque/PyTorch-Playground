{
 "cells": [
  {
   "cell_type": "markdown",
   "metadata": {},
   "source": [
    "### Imports"
   ]
  },
  {
   "cell_type": "code",
   "execution_count": 1,
   "metadata": {},
   "outputs": [
    {
     "name": "stdout",
     "output_type": "stream",
     "text": [
      "INFO: Pandarallel will run on 6 workers.\n",
      "INFO: Pandarallel will use Memory file system to transfer data between the main process and workers.\n"
     ]
    }
   ],
   "source": [
    "#sys libs\n",
    "import os\n",
    "import sys\n",
    "import random\n",
    "import warnings\n",
    "warnings.filterwarnings(\"ignore\")\n",
    "\n",
    "#data manupulation libs\n",
    "import pandas as pd\n",
    "import numpy as np\n",
    "from sklearn.model_selection import train_test_split\n",
    "from pandarallel import pandarallel\n",
    "# Initialization\n",
    "pandarallel.initialize()\n",
    "\n",
    "\n",
    "#string manupulation libs\n",
    "import re\n",
    "import string\n",
    "from string import digits\n",
    "import spacy\n",
    "\n",
    "#torch libs\n",
    "import torch\n",
    "from torch.nn.utils.rnn import pad_sequence\n",
    "from torch.utils.data import DataLoader, Dataset\n",
    "import torch.nn as nn\n",
    "import torch.optim as optim\n",
    "from collections import Counter\n",
    "from torchtext.vocab import vocab\n",
    "from torchtext.data.utils import get_tokenizer\n",
    "from torchtext.vocab import build_vocab_from_iterator\n",
    "\n",
    "import spacy\n",
    "tokenizer = get_tokenizer('spacy', language='en_core_web_sm')\n"
   ]
  },
  {
   "cell_type": "markdown",
   "metadata": {},
   "source": [
    "### Download Data"
   ]
  },
  {
   "cell_type": "code",
   "execution_count": 1,
   "metadata": {},
   "outputs": [],
   "source": [
    "# !wget https://github.com/rasbt/python-machine-learning-book-3rd-edition/raw/master/ch08/movie_data.csv.gz\n",
    "# !gunzip -f movie_data.csv.gz"
   ]
  },
  {
   "cell_type": "code",
   "execution_count": 2,
   "metadata": {},
   "outputs": [
    {
     "data": {
      "text/html": [
       "<div>\n",
       "<style scoped>\n",
       "    .dataframe tbody tr th:only-of-type {\n",
       "        vertical-align: middle;\n",
       "    }\n",
       "\n",
       "    .dataframe tbody tr th {\n",
       "        vertical-align: top;\n",
       "    }\n",
       "\n",
       "    .dataframe thead th {\n",
       "        text-align: right;\n",
       "    }\n",
       "</style>\n",
       "<table border=\"1\" class=\"dataframe\">\n",
       "  <thead>\n",
       "    <tr style=\"text-align: right;\">\n",
       "      <th></th>\n",
       "      <th>review</th>\n",
       "      <th>sentiment</th>\n",
       "    </tr>\n",
       "  </thead>\n",
       "  <tbody>\n",
       "    <tr>\n",
       "      <th>0</th>\n",
       "      <td>In 1974, the teenager Martha Moxley (Maggie Gr...</td>\n",
       "      <td>1</td>\n",
       "    </tr>\n",
       "    <tr>\n",
       "      <th>1</th>\n",
       "      <td>OK... so... I really like Kris Kristofferson a...</td>\n",
       "      <td>0</td>\n",
       "    </tr>\n",
       "    <tr>\n",
       "      <th>2</th>\n",
       "      <td>***SPOILER*** Do not read this, if you think a...</td>\n",
       "      <td>0</td>\n",
       "    </tr>\n",
       "    <tr>\n",
       "      <th>3</th>\n",
       "      <td>hi for all the people who have seen this wonde...</td>\n",
       "      <td>1</td>\n",
       "    </tr>\n",
       "    <tr>\n",
       "      <th>4</th>\n",
       "      <td>I recently bought the DVD, forgetting just how...</td>\n",
       "      <td>0</td>\n",
       "    </tr>\n",
       "  </tbody>\n",
       "</table>\n",
       "</div>"
      ],
      "text/plain": [
       "                                              review  sentiment\n",
       "0  In 1974, the teenager Martha Moxley (Maggie Gr...          1\n",
       "1  OK... so... I really like Kris Kristofferson a...          0\n",
       "2  ***SPOILER*** Do not read this, if you think a...          0\n",
       "3  hi for all the people who have seen this wonde...          1\n",
       "4  I recently bought the DVD, forgetting just how...          0"
      ]
     },
     "execution_count": 2,
     "metadata": {},
     "output_type": "execute_result"
    }
   ],
   "source": [
    "df = pd.read_csv('movie_data.csv')\n",
    "df.head()"
   ]
  },
  {
   "cell_type": "code",
   "execution_count": 20,
   "metadata": {},
   "outputs": [],
   "source": [
    "class IMDBDataset(Dataset):\n",
    "    def __init__(self, df, tokenizer, min_freq=5):\n",
    "        self.tokenizer = tokenizer\n",
    "        self.min_freq = min_freq\n",
    "        self.df = df      \n",
    "        self.counter = Counter()\n",
    "        for item in self.df['review']:\n",
    "            self.counter.update(self.tokenizer(item))\n",
    "        self.vocab = vocab(self.counter, min_freq=self.min_freq, specials=('<unk>', '<BOS>', '<EOS>', '<PAD>'))\n",
    "        self.vocab.set_default_index(self.vocab['<unk>'])\n",
    "        self.text_transform = lambda x: [self.vocab['<BOS>']] + [self.vocab[token] for token in tokenizer(x)] + [self.vocab['<EOS>']]\n",
    "\n",
    "    def __len__(self):\n",
    "        return len(self.df)\n",
    "    \n",
    "    def __getitem__(self, idx):\n",
    "        text = self.text_transform(self.df.iloc[idx]['review'])\n",
    "        label = self.df.iloc[idx]['sentiment']\n",
    "        return torch.tensor(text), torch.tensor(label)        \n",
    "\n"
   ]
  },
  {
   "cell_type": "code",
   "execution_count": 21,
   "metadata": {},
   "outputs": [],
   "source": [
    "imdb = IMDBDataset(df, tokenizer, min_freq=5)"
   ]
  },
  {
   "cell_type": "code",
   "execution_count": 22,
   "metadata": {},
   "outputs": [
    {
     "data": {
      "text/plain": [
       "(tensor([  1,   4,   5,   6,   7,   8,   9,  10,  11,  12,  13,  14,  15,  16,\n",
       "           7,  17,  18,  19,  20,  21,  22,  23,   6,  24,   6,  25,  26,  27,\n",
       "           7,   0,  28,   6,  29,  21,  30,   6,  31,  32,  33,  34,   7,  35,\n",
       "          21,  36,  37,  38,  36,  39,  40,  41,  26,  42,  18,  43,  44,  45,\n",
       "           6,   7,  46,  47,  48,  11,  49,  50,  14,   6,  51,  52,  53,  54,\n",
       "          55,  56,  57,  58,  59,  34,  60,  61,   0,  34,  62,  63,  64,  38,\n",
       "          65,  16,  66,   6,  67,  16,  68,   7,  69,  70,  71,  72,  73,  74,\n",
       "          11,  75,  76,  14,  70,   7,  77,  21,  78,  53,  79,  26,  80,  81,\n",
       "          82,  38,  83,  84,  85,  86,   6,  87,  70,   7,  88,  21,   7,  89,\n",
       "          56,  90,  91,  11,  92,  93,  14,  57,  32,  34,  94,  21,   7,  95,\n",
       "          34,   7,  96,  97,   6,  98,  99,   7, 100,  38,  53, 101,  21, 102,\n",
       "          38, 103,  16, 104,   7, 105, 106, 107,  34,  24, 108,  52,  53, 109,\n",
       "         110, 111,   6,  70,   7, 112, 113,  21,  53,  39,  21,  53, 114,  44,\n",
       "         115, 116,  57,  32, 117, 118,  53, 119,   8, 120, 121,  32,  53, 122,\n",
       "          26,  80, 123,  38, 124, 125, 126, 127, 128,  16, 104,   7,  39,  61,\n",
       "         129, 130, 131,  44,  26, 132,   6,  53,   0,  56,  38, 133,   0,  34,\n",
       "          60,  32, 134,  16, 135, 136,   7, 137, 138,  32, 117,  26,  80, 139,\n",
       "         140,   7,  95,  21,  47,  38,   7, 141, 142,  21,   9,  34, 143,   6,\n",
       "          87, 144,  52,  53, 145,  21,   7, 146,  34,   7, 147,  26, 148, 149,\n",
       "          52, 150, 106, 151,  11, 152, 153, 154, 155,   2]),\n",
       " tensor(1))"
      ]
     },
     "execution_count": 22,
     "metadata": {},
     "output_type": "execute_result"
    }
   ],
   "source": [
    "next(iter(imdb))"
   ]
  },
  {
   "cell_type": "code",
   "execution_count": 74,
   "metadata": {},
   "outputs": [],
   "source": [
    "class IMDBCollate:\n",
    "    def __init__(self, pad_idx, batch_first=True):\n",
    "        self.pad_idx = pad_idx\n",
    "        self.batch_first = batch_first\n",
    "        \n",
    "    def __call__(self, batch):\n",
    "        label_list, text_list = [], []\n",
    "        for (_text, _label) in batch:\n",
    "            label_list.append(_label)\n",
    "            text_list.append(_text)\n",
    "        return pad_sequence(text_list, padding_value=3.0, batch_first=self.batch_first), torch.tensor(label_list)"
   ]
  },
  {
   "cell_type": "code",
   "execution_count": 75,
   "metadata": {},
   "outputs": [],
   "source": [
    "from torch.utils.data import DataLoader\n",
    "from torch.nn.utils.rnn import pad_sequence\n",
    "\n",
    "def collate_batch(batch, pad_idx=3.0):\n",
    "   label_list, text_list = [], []\n",
    "   for (_text, _label) in batch:\n",
    "      label_list.append(_label)\n",
    "      processed_text = (_text)\n",
    "      text_list.append(processed_text)\n",
    "   return pad_sequence(text_list, padding_value=3.0, batch_first=True), torch.tensor(label_list)\n",
    "\n",
    "# train_dataloader = DataLoader(imdb, batch_size=2, shuffle=True, \n",
    "#                               collate_fn=IMDBCollate(pad_idx=imdb.vocab['<PAD>']))\n",
    "\n",
    "# train_dataloader = DataLoader(imdb, batch_size=2, shuffle=True, collate_fn=collate_batch)\n",
    "train_dataloader = DataLoader(imdb, batch_size=2, shuffle=True, collate_fn=IMDBCollate(pad_idx=imdb.vocab['<PAD>']))"
   ]
  },
  {
   "cell_type": "code",
   "execution_count": 76,
   "metadata": {},
   "outputs": [],
   "source": [
    "texts_, labels_ = next(iter(train_dataloader))"
   ]
  },
  {
   "cell_type": "code",
   "execution_count": 78,
   "metadata": {},
   "outputs": [
    {
     "data": {
      "text/plain": [
       "(torch.Size([2, 339]), torch.Size([2]))"
      ]
     },
     "execution_count": 78,
     "metadata": {},
     "output_type": "execute_result"
    }
   ],
   "source": [
    "texts_.shape, labels_.shape"
   ]
  },
  {
   "cell_type": "code",
   "execution_count": 79,
   "metadata": {},
   "outputs": [
    {
     "data": {
      "text/plain": [
       "50000"
      ]
     },
     "execution_count": 79,
     "metadata": {},
     "output_type": "execute_result"
    }
   ],
   "source": [
    "len(df)"
   ]
  },
  {
   "cell_type": "code",
   "execution_count": null,
   "metadata": {},
   "outputs": [],
   "source": []
  }
 ],
 "metadata": {
  "kernelspec": {
   "display_name": "PyTorch",
   "language": "python",
   "name": "pytorch"
  },
  "language_info": {
   "codemirror_mode": {
    "name": "ipython",
    "version": 3
   },
   "file_extension": ".py",
   "mimetype": "text/x-python",
   "name": "python",
   "nbconvert_exporter": "python",
   "pygments_lexer": "ipython3",
   "version": "3.9.16"
  },
  "orig_nbformat": 4
 },
 "nbformat": 4,
 "nbformat_minor": 2
}
